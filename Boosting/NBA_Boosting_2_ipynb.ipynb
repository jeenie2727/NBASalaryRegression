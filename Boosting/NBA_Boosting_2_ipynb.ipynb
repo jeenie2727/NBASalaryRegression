{
  "cells": [
    {
      "cell_type": "code",
      "execution_count": 1,
      "metadata": {
        "id": "tsbubUk7EspG"
      },
      "outputs": [],
      "source": [
        "import numpy as np\n",
        "import pandas as pd"
      ]
    },
    {
      "cell_type": "code",
      "execution_count": 2,
      "metadata": {
        "colab": {
          "base_uri": "https://localhost:8080/"
        },
        "id": "FkZcylx7E5rQ",
        "outputId": "fd949d36-81cc-49b8-d1c7-fc10c51af9c0"
      },
      "outputs": [
        {
          "name": "stdout",
          "output_type": "stream",
          "text": [
            "Drive already mounted at /content/drive; to attempt to forcibly remount, call drive.mount(\"/content/drive\", force_remount=True).\n"
          ]
        }
      ],
      "source": [
        "from google.colab import drive\n",
        "drive.mount('/content/drive')"
      ]
    },
    {
      "cell_type": "code",
      "execution_count": 3,
      "metadata": {
        "colab": {
          "base_uri": "https://localhost:8080/"
        },
        "id": "_8Yv8PtIE6L0",
        "outputId": "ddad757b-45cc-41f5-9c10-28b2d17c7214"
      },
      "outputs": [
        {
          "name": "stdout",
          "output_type": "stream",
          "text": [
            "<class 'pandas.core.frame.DataFrame'>\n",
            "RangeIndex: 1735 entries, 0 to 1734\n",
            "Data columns (total 39 columns):\n",
            " #   Column  Non-Null Count  Dtype  \n",
            "---  ------  --------------  -----  \n",
            " 0   name    1735 non-null   object \n",
            " 1   debut   1735 non-null   object \n",
            " 2   start   1735 non-null   int64  \n",
            " 3   end     1735 non-null   int64  \n",
            " 4   salary  1735 non-null   float64\n",
            " 5   birth   1735 non-null   int64  \n",
            " 6   target  1735 non-null   float64\n",
            " 7   Pos     1735 non-null   object \n",
            " 8   G       1735 non-null   float64\n",
            " 9   GS      1735 non-null   float64\n",
            " 10  MP      1735 non-null   float64\n",
            " 11  FG      1735 non-null   float64\n",
            " 12  FGA     1735 non-null   float64\n",
            " 13  FG%     1735 non-null   float64\n",
            " 14  3P      1735 non-null   float64\n",
            " 15  3PA     1735 non-null   float64\n",
            " 16  3P%     1735 non-null   float64\n",
            " 17  2P      1735 non-null   float64\n",
            " 18  2PA     1735 non-null   float64\n",
            " 19  2P%     1735 non-null   float64\n",
            " 20  eFG%    1735 non-null   float64\n",
            " 21  FT      1735 non-null   float64\n",
            " 22  FTA     1735 non-null   float64\n",
            " 23  FT%     1735 non-null   float64\n",
            " 24  ORB     1735 non-null   float64\n",
            " 25  DRB     1735 non-null   float64\n",
            " 26  TRB     1735 non-null   float64\n",
            " 27  AST     1735 non-null   float64\n",
            " 28  STL     1735 non-null   float64\n",
            " 29  BLK     1735 non-null   float64\n",
            " 30  TOV     1735 non-null   float64\n",
            " 31  PF      1735 non-null   float64\n",
            " 32  PTS     1735 non-null   float64\n",
            " 33  age     1735 non-null   int64  \n",
            " 34  Pos_C   1735 non-null   float64\n",
            " 35  Pos_PF  1735 non-null   float64\n",
            " 36  Pos_PG  1735 non-null   float64\n",
            " 37  Pos_SF  1735 non-null   float64\n",
            " 38  Pos_SG  1735 non-null   float64\n",
            "dtypes: float64(32), int64(4), object(3)\n",
            "memory usage: 528.8+ KB\n",
            "None\n",
            "           name debut  start   end     salary  birth    target Pos  \\\n",
            "0   A.J. Lawson  2021   2023  2026  1978006.0   2000  0.013971  SG   \n",
            "1  Aaron Brooks  2007   2015  2015  2250000.0   1985  0.032143  PG   \n",
            "2  Aaron Brooks  2007   2016  2016  2700000.0   1985  0.028680  PG   \n",
            "3  Aaron Brooks  2007   2017  2017  2116955.0   1985  0.021363  PG   \n",
            "4  Aaron Brooks  2007   2014  2014  1145685.0   1985  0.018167  PG   \n",
            "\n",
            "            G         GS  ...       BLK       TOV        PF       PTS  age  \\\n",
            "0   51.000000   0.000000  ...  0.029167  0.224444  0.648750  3.580139   23   \n",
            "1  110.666667  16.031971  ...  0.194449  1.606233  2.030529  9.233652   30   \n",
            "2   98.333333   9.805556  ...  0.156713  1.573843  2.073611  9.228935   31   \n",
            "3   72.000000   7.000000  ...  0.133333  1.366667  1.866667  7.900000   32   \n",
            "4  125.000000  13.547956  ...  0.191673  1.459349  1.895794  8.050478   29   \n",
            "\n",
            "   Pos_C  Pos_PF  Pos_PG  Pos_SF  Pos_SG  \n",
            "0    0.0     0.0     0.0     0.0     1.0  \n",
            "1    0.0     0.0     1.0     0.0     0.0  \n",
            "2    0.0     0.0     1.0     0.0     0.0  \n",
            "3    0.0     0.0     1.0     0.0     0.0  \n",
            "4    0.0     0.0     1.0     0.0     0.0  \n",
            "\n",
            "[5 rows x 39 columns]\n",
            "(1735, 39)\n"
          ]
        }
      ],
      "source": [
        "data = pd.read_csv('/content/drive/MyDrive/Colab Notebooks/finaldata.csv', encoding='latin1')\n",
        "\n",
        "# 데이터 확인\n",
        "print(data.info())\n",
        "print(data.head())\n",
        "print(data.shape)"
      ]
    },
    {
      "cell_type": "code",
      "execution_count": 4,
      "metadata": {
        "colab": {
          "base_uri": "https://localhost:8080/"
        },
        "id": "JJtvrUOiG1hs",
        "outputId": "2ef8870c-af13-4d2d-d57c-ded84fe47dcd"
      },
      "outputs": [
        {
          "name": "stdout",
          "output_type": "stream",
          "text": [
            "<class 'pandas.core.frame.DataFrame'>\n",
            "Index: 1734 entries, 0 to 1734\n",
            "Data columns (total 37 columns):\n",
            " #   Column  Non-Null Count  Dtype  \n",
            "---  ------  --------------  -----  \n",
            " 0   debut   1734 non-null   int64  \n",
            " 1   start   1734 non-null   int64  \n",
            " 2   end     1734 non-null   int64  \n",
            " 3   salary  1734 non-null   float64\n",
            " 4   birth   1734 non-null   int64  \n",
            " 5   target  1734 non-null   float64\n",
            " 6   G       1734 non-null   float64\n",
            " 7   GS      1734 non-null   float64\n",
            " 8   MP      1734 non-null   float64\n",
            " 9   FG      1734 non-null   float64\n",
            " 10  FGA     1734 non-null   float64\n",
            " 11  FG%     1734 non-null   float64\n",
            " 12  3P      1734 non-null   float64\n",
            " 13  3PA     1734 non-null   float64\n",
            " 14  3P%     1734 non-null   float64\n",
            " 15  2P      1734 non-null   float64\n",
            " 16  2PA     1734 non-null   float64\n",
            " 17  2P%     1734 non-null   float64\n",
            " 18  eFG%    1734 non-null   float64\n",
            " 19  FT      1734 non-null   float64\n",
            " 20  FTA     1734 non-null   float64\n",
            " 21  FT%     1734 non-null   float64\n",
            " 22  ORB     1734 non-null   float64\n",
            " 23  DRB     1734 non-null   float64\n",
            " 24  TRB     1734 non-null   float64\n",
            " 25  AST     1734 non-null   float64\n",
            " 26  STL     1734 non-null   float64\n",
            " 27  BLK     1734 non-null   float64\n",
            " 28  TOV     1734 non-null   float64\n",
            " 29  PF      1734 non-null   float64\n",
            " 30  PTS     1734 non-null   float64\n",
            " 31  age     1734 non-null   int64  \n",
            " 32  Pos_C   1734 non-null   float64\n",
            " 33  Pos_PF  1734 non-null   float64\n",
            " 34  Pos_PG  1734 non-null   float64\n",
            " 35  Pos_SF  1734 non-null   float64\n",
            " 36  Pos_SG  1734 non-null   float64\n",
            "dtypes: float64(32), int64(5)\n",
            "memory usage: 514.8 KB\n",
            "None\n"
          ]
        }
      ],
      "source": [
        "# 'debut' 열에 '-' 값이 있는 행 제거\n",
        "data = data[data['debut'] != '-']\n",
        "# 'debut' 열을 int 타입으로 변환\n",
        "data['debut'] = data['debut'].astype(int)\n",
        "\n",
        "# 결측치가 있는 모든 행 제거\n",
        "data_cleaned = data.drop(columns=['Pos', 'name'])\n",
        "\n",
        "\n",
        "print(data_cleaned.info())\n"
      ]
    },
    {
      "cell_type": "code",
      "execution_count": 5,
      "metadata": {
        "colab": {
          "base_uri": "https://localhost:8080/"
        },
        "id": "7zWEdWi4Kmvu",
        "outputId": "f39af11b-599b-48e0-fb35-9c61b6df222a"
      },
      "outputs": [
        {
          "name": "stdout",
          "output_type": "stream",
          "text": [
            "target.shape -> (1734,)\n",
            "0    0.013971\n",
            "1    0.032143\n",
            "2    0.028680\n",
            "3    0.021363\n",
            "4    0.018167\n",
            "Name: target, dtype: float64\n"
          ]
        }
      ],
      "source": [
        "# target feature (목표 변수)\n",
        "target = data_cleaned['target']\n",
        "\n",
        "# input feature (입력 변수들)\n",
        "input_features = data_cleaned.drop(columns=['target'])\n",
        "\n",
        "# 결과 데이터 확인\n",
        "print(f\"target.shape -> {target.shape}\")\n",
        "print(target.head())\n"
      ]
    },
    {
      "cell_type": "code",
      "execution_count": 6,
      "metadata": {
        "colab": {
          "base_uri": "https://localhost:8080/"
        },
        "id": "BPF9KxUZQ905",
        "outputId": "62be6f0f-9cc0-4ef3-e202-7c3f7d380fbe"
      },
      "outputs": [
        {
          "name": "stdout",
          "output_type": "stream",
          "text": [
            "표준화 안한 모델\n",
            "\n",
            "          xgb_test_mse: 6.893317031478567e-05\n",
            "          xgb_train_mse: 3.7344312792603566e-07\n",
            "          xgb_test_r2: 0.9893601110776246\n",
            "          xgb_train_r2: 0.99994187460462\n",
            "\n",
            "          ada_test_mse: 0.0002615655145532\n",
            "          ada_train_mse: 0.0001776191896123923\n",
            "          ada_test_r2: 0.9596271576069805\n",
            "          ada_train_r2: 0.9723540618336516\n",
            "      \n"
          ]
        }
      ],
      "source": [
        "from sklearn.model_selection import train_test_split\n",
        "from xgboost import XGBRegressor\n",
        "from sklearn.ensemble import AdaBoostRegressor\n",
        "from sklearn.metrics import mean_squared_error, r2_score\n",
        "\n",
        "# 훈련/검증 데이터셋 분리\n",
        "X_train, X_test, y_train, y_test = train_test_split(input_features, target, test_size=0.2, random_state=42)\n",
        "\n",
        "# XGBoost 모델 학습 및 평가(표준화 X)\n",
        "xgb_model = XGBRegressor()\n",
        "xgb_model.fit(X_train, y_train)\n",
        "xgb_predictions = xgb_model.predict(X_test)\n",
        "xgb_test_mse = mean_squared_error(y_test, xgb_predictions)\n",
        "xgb_test_r2 = r2_score(y_test, xgb_predictions)\n",
        "xgb_train_mse = mean_squared_error(y_train, xgb_model.predict(X_train))\n",
        "xgb_train_r2 = r2_score(y_train, xgb_model.predict(X_train))\n",
        "\n",
        "# AdaBoost 모델 학습 및 평가(표준화 X)\n",
        "ada_model = AdaBoostRegressor()\n",
        "ada_model.fit(X_train, y_train)\n",
        "ada_predictions = ada_model.predict(X_test)\n",
        "ada_test_mse = mean_squared_error(y_test, ada_predictions)\n",
        "ada_test_r2 = r2_score(y_test, ada_predictions)\n",
        "ada_train_mse = mean_squared_error(y_train, ada_model.predict(X_train))\n",
        "ada_train_r2 = r2_score(y_train, ada_model.predict(X_train))\n",
        "\n",
        "print(\"표준화 안한 모델\")\n",
        "print(f\"\"\"\n",
        "          xgb_test_mse: {xgb_test_mse}\n",
        "          xgb_train_mse: {xgb_train_mse}\n",
        "          xgb_test_r2: {xgb_test_r2}\n",
        "          xgb_train_r2: {xgb_train_r2}\n",
        "\n",
        "          ada_test_mse: {ada_test_mse}\n",
        "          ada_train_mse: {ada_train_mse}\n",
        "          ada_test_r2: {ada_test_r2}\n",
        "          ada_train_r2: {ada_train_r2}\n",
        "      \"\"\"\n",
        "     )\n"
      ]
    },
    {
      "cell_type": "code",
      "execution_count": 7,
      "metadata": {
        "colab": {
          "base_uri": "https://localhost:8080/"
        },
        "id": "w47eQE5nUrpN",
        "outputId": "e2f14c44-231a-4b6c-948f-e02b298ca652"
      },
      "outputs": [
        {
          "name": "stdout",
          "output_type": "stream",
          "text": [
            "표준화 한 모델\n",
            "\n",
            "          xgb_scaled_test_mse: 6.893317031478567e-05\n",
            "          xgb_scaled_train_mse: 3.7344312792603566e-07\n",
            "          xgb_scaled_test_r2: 0.9893601110776246\n",
            "          xgb_scaled_train_r2: 0.99994187460462\n",
            "\n",
            "          ada_scaled_test_mse: 0.00026645332981072516\n",
            "          ada_scaled_train_mse: 0.00018686597863652548\n",
            "          ada_scaled_test_r2: 0.9588727194870497\n",
            "          ada_scaled_train_r2: 0.9709148245634202\n",
            "      \n"
          ]
        }
      ],
      "source": [
        "from sklearn.preprocessing import StandardScaler\n",
        "#표준화\n",
        "scaler = StandardScaler()\n",
        "X_train_scaled = scaler.fit_transform(X_train)\n",
        "X_test_scaled = scaler.transform(X_test)\n",
        "\n",
        "# XGBoost 모델 학습 및 평가(표준화 O)\n",
        "xgb_scaled= XGBRegressor()\n",
        "xgb_scaled.fit(X_train_scaled, y_train)\n",
        "xgb_scaled_predictions = xgb_scaled.predict(X_test_scaled)\n",
        "xgb_scaled_test_mse = mean_squared_error(y_test, xgb_scaled_predictions)\n",
        "xgb_scaled_test_r2 = r2_score(y_test, xgb_scaled_predictions)\n",
        "xgb_scaled_train_mse = mean_squared_error(y_train, xgb_scaled.predict(X_train_scaled))\n",
        "xgb_scaled_train_r2 = r2_score(y_train, xgb_scaled.predict(X_train_scaled))\n",
        "\n",
        "# AdaBoost 모델 학습 및 평가(표준화 O)\n",
        "ada_scaled = AdaBoostRegressor()\n",
        "ada_scaled.fit(X_train_scaled, y_train)\n",
        "ada_scaled_predictions = ada_scaled.predict(X_test_scaled)\n",
        "ada_scaled_test_mse = mean_squared_error(y_test, ada_scaled_predictions)\n",
        "ada_scaled_test_r2 = r2_score(y_test, ada_scaled_predictions)\n",
        "ada_scaled_train_mse = mean_squared_error(y_train, ada_scaled.predict(X_train_scaled))\n",
        "ada_scaled_train_r2 = r2_score(y_train, ada_scaled.predict(X_train_scaled))\n",
        "\n",
        "print(\"표준화 한 모델\")\n",
        "print(f\"\"\"\n",
        "          xgb_scaled_test_mse: {xgb_scaled_test_mse}\n",
        "          xgb_scaled_train_mse: {xgb_scaled_train_mse}\n",
        "          xgb_scaled_test_r2: {xgb_scaled_test_r2}\n",
        "          xgb_scaled_train_r2: {xgb_scaled_train_r2}\n",
        "\n",
        "          ada_scaled_test_mse: {ada_scaled_test_mse}\n",
        "          ada_scaled_train_mse: {ada_scaled_train_mse}\n",
        "          ada_scaled_test_r2: {ada_scaled_test_r2}\n",
        "          ada_scaled_train_r2: {ada_scaled_train_r2}\n",
        "      \"\"\"\n",
        "     )"
      ]
    }
  ],
  "metadata": {
    "accelerator": "GPU",
    "colab": {
      "gpuType": "A100",
      "machine_shape": "hm",
      "provenance": [],
      "toc_visible": true
    },
    "kernelspec": {
      "display_name": "Python 3",
      "name": "python3"
    },
    "language_info": {
      "name": "python"
    }
  },
  "nbformat": 4,
  "nbformat_minor": 0
}
